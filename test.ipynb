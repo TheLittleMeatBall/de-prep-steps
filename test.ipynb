{
 "cells": [
  {
   "cell_type": "code",
   "execution_count": 1,
   "id": "607bc2ee",
   "metadata": {},
   "outputs": [],
   "source": [
    "import re"
   ]
  },
  {
   "cell_type": "code",
   "execution_count": 2,
   "id": "1b43e023",
   "metadata": {},
   "outputs": [],
   "source": [
    "reg = re.compile('dog')"
   ]
  },
  {
   "cell_type": "code",
   "execution_count": 3,
   "id": "f99083e4",
   "metadata": {},
   "outputs": [
    {
     "data": {
      "text/plain": [
       "re.compile(r'dog', re.UNICODE)"
      ]
     },
     "execution_count": 3,
     "metadata": {},
     "output_type": "execute_result"
    }
   ],
   "source": [
    "reg"
   ]
  },
  {
   "cell_type": "code",
   "execution_count": 4,
   "id": "6021207d",
   "metadata": {},
   "outputs": [
    {
     "data": {
      "text/plain": [
       "'Northcoders is a so-called \"boot camp\"'"
      ]
     },
     "execution_count": 4,
     "metadata": {},
     "output_type": "execute_result"
    }
   ],
   "source": [
    "literal_1 = \"Northcoders is a so-called \\\"boot camp\\\"\"\n",
    "literal_1"
   ]
  },
  {
   "cell_type": "code",
   "execution_count": 5,
   "id": "02e66864",
   "metadata": {},
   "outputs": [
    {
     "data": {
      "text/plain": [
       "'Northcoders is a so-called \\\\\"boot camp\\\\\"'"
      ]
     },
     "execution_count": 5,
     "metadata": {},
     "output_type": "execute_result"
    }
   ],
   "source": [
    "literal_2 = \"Northcoders is a so-called \\\\\\\"boot camp\\\\\\\"\"\n",
    "literal_2"
   ]
  },
  {
   "cell_type": "code",
   "execution_count": 6,
   "id": "bf210942",
   "metadata": {},
   "outputs": [
    {
     "data": {
      "text/plain": [
       "'Northcoders is a so-called \\\\\"boot camp\\\\\"'"
      ]
     },
     "execution_count": 6,
     "metadata": {},
     "output_type": "execute_result"
    }
   ],
   "source": [
    "raw_1 = r\"Northcoders is a so-called \\\"boot camp\\\"\"\n",
    "raw_1"
   ]
  },
  {
   "cell_type": "code",
   "execution_count": 7,
   "id": "60c57fb7",
   "metadata": {},
   "outputs": [
    {
     "data": {
      "text/plain": [
       "re.compile(r'[dog]', re.UNICODE)"
      ]
     },
     "execution_count": 7,
     "metadata": {},
     "output_type": "execute_result"
    }
   ],
   "source": [
    "re.compile(r'[dog]') # will match 'd', 'o', or 'g', but NOT 'h'"
   ]
  },
  {
   "cell_type": "code",
   "execution_count": 8,
   "id": "40aff434",
   "metadata": {},
   "outputs": [
    {
     "data": {
      "text/plain": [
       "re.compile(r'N\\drthcoders', re.UNICODE)"
      ]
     },
     "execution_count": 8,
     "metadata": {},
     "output_type": "execute_result"
    }
   ],
   "source": [
    "re.compile(r'N\\drthcoders')  # will match N0rthcoders, N1rthcoders, N2rthcoders etc"
   ]
  },
  {
   "cell_type": "code",
   "execution_count": 9,
   "id": "59d35e74",
   "metadata": {},
   "outputs": [
    {
     "data": {
      "text/plain": [
       "re.compile(r'^hello', re.UNICODE)"
      ]
     },
     "execution_count": 9,
     "metadata": {},
     "output_type": "execute_result"
    }
   ],
   "source": [
    "re.compile(r'^hello') # will match 'hello world!' but NOT 'oh, hello!'"
   ]
  },
  {
   "cell_type": "code",
   "execution_count": 10,
   "id": "29fbd6f1",
   "metadata": {},
   "outputs": [
    {
     "data": {
      "text/plain": [
       "re.compile(r'\\$\\d', re.UNICODE)"
      ]
     },
     "execution_count": 10,
     "metadata": {},
     "output_type": "execute_result"
    }
   ],
   "source": [
    "re.compile(r'\\$\\d') # will match 'cost: $5' because we have escaped the $ "
   ]
  },
  {
   "cell_type": "code",
   "execution_count": null,
   "id": "613b7df7",
   "metadata": {},
   "outputs": [
    {
     "data": {
      "text/plain": [
       "re.compile(r'[abc]+!*', re.UNICODE)"
      ]
     },
     "execution_count": 11,
     "metadata": {},
     "output_type": "execute_result"
    }
   ],
   "source": [
    "re.compile(r'[abc]+!*') \n",
    "# matches one or more of the characters in the character set followed by zero or more exclamation marks\n",
    "\n",
    "# \"c\"    --> match\n",
    "# \"a!!!\" --> match\n",
    "# \"d!\"   --> not a match"
   ]
  },
  {
   "cell_type": "code",
   "execution_count": 12,
   "id": "c30fc4ab",
   "metadata": {},
   "outputs": [
    {
     "data": {
      "text/plain": [
       "re.compile(r'Northcoders', re.IGNORECASE|re.UNICODE)"
      ]
     },
     "execution_count": 12,
     "metadata": {},
     "output_type": "execute_result"
    }
   ],
   "source": [
    "re.compile('Northcoders', re.IGNORECASE) # matches Northcoders, NORTHCODERS, nOrtHcODerS etc"
   ]
  },
  {
   "cell_type": "code",
   "execution_count": 13,
   "id": "7206b408",
   "metadata": {},
   "outputs": [
    {
     "name": "stdout",
     "output_type": "stream",
     "text": [
      "foot\n",
      "(6, 10)\n"
     ]
    }
   ],
   "source": [
    "test_string = 'table football'\n",
    "regex = re.compile(r'foo\\w')\n",
    "found = regex.search(test_string)\n",
    "\n",
    "print(found.group()) # foot - i.e. the matched string\n",
    "print(found.span()) # (6, 10) - i.e. the matched string starts at position 6 and goes up to but not including position 10"
   ]
  },
  {
   "cell_type": "code",
   "execution_count": 15,
   "id": "0d0c0b24",
   "metadata": {},
   "outputs": [
    {
     "name": "stdout",
     "output_type": "stream",
     "text": [
      "None\n",
      "<re.Match object; span=(0, 4), match='tabl'>\n",
      "None\n",
      "<re.Match object; span=(0, 14), match='table football'>\n"
     ]
    }
   ],
   "source": [
    "# returns None - not at start of string\n",
    "print(regex.match(test_string)) \n",
    "\n",
    "# <re.Match object; span=(0, 4), match='tabl'>\n",
    "print(re.compile(r'tabl').match(test_string) )\n",
    "\n",
    "# returns None - match does not comprise the whole string\n",
    "print(regex.fullmatch(test_string) )#\n",
    "\n",
    "# <re.Match object; span=(0, 14), match='table football'>\n",
    "print(re.compile(r'table football').fullmatch(test_string) )"
   ]
  },
  {
   "cell_type": "code",
   "execution_count": 16,
   "id": "f9f24374",
   "metadata": {},
   "outputs": [
    {
     "name": "stdout",
     "output_type": "stream",
     "text": [
      "No match!\n"
     ]
    }
   ],
   "source": [
    "result = regex.match(test_string)\n",
    "if result:\n",
    "    print(f'Matched {result.group()}')\n",
    "else:\n",
    "    print('No match!')"
   ]
  },
  {
   "cell_type": "code",
   "execution_count": 17,
   "id": "890bb13b",
   "metadata": {},
   "outputs": [
    {
     "data": {
      "text/plain": [
       "['House', 'mouse', 'douse', 'louse']"
      ]
     },
     "execution_count": 17,
     "metadata": {},
     "output_type": "execute_result"
    }
   ],
   "source": [
    "regex = re.compile(r'\\wouse')\n",
    "data = 'House mouse douses louse'\n",
    "regex.findall(data) # returns ['House', 'mouse', 'douse', 'louse']"
   ]
  }
 ],
 "metadata": {
  "kernelspec": {
   "display_name": "3.13.3",
   "language": "python",
   "name": "python3"
  },
  "language_info": {
   "codemirror_mode": {
    "name": "ipython",
    "version": 3
   },
   "file_extension": ".py",
   "mimetype": "text/x-python",
   "name": "python",
   "nbconvert_exporter": "python",
   "pygments_lexer": "ipython3",
   "version": "3.13.3"
  }
 },
 "nbformat": 4,
 "nbformat_minor": 5
}
